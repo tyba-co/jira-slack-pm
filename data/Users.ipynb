{
 "cells": [
  {
   "cell_type": "code",
   "execution_count": 4,
   "metadata": {},
   "outputs": [
    {
     "data": {
      "text/plain": [
       "'rafael@krealo.pe'"
      ]
     },
     "execution_count": 4,
     "metadata": {},
     "output_type": "execute_result"
    }
   ],
   "source": [
    "import pandas as pd\n",
    "\n",
    "data = pd.read_csv(\"export-users.csv\")\n",
    "groupby_cols = ['id', 'name', 'email','active']\n",
    "users_data = data.groupby(groupby_cols).count()\n",
    "users_df = pd.DataFrame.from_records(users_data.index, columns = groupby_cols)\n",
    "users_active = users_df[users_df['active'] == 'Yes']\n",
    "users_active[users_active['id'] == '5b7c0682b8624857f09f006c']['email'].iloc[0]\n",
    "#users_df.to_csv(\"users.csv\")"
   ]
  }
 ],
 "metadata": {
  "kernelspec": {
   "display_name": "Python 3",
   "language": "python",
   "name": "python3"
  },
  "language_info": {
   "codemirror_mode": {
    "name": "ipython",
    "version": 3
   },
   "file_extension": ".py",
   "mimetype": "text/x-python",
   "name": "python",
   "nbconvert_exporter": "python",
   "pygments_lexer": "ipython3",
   "version": "3.8.3"
  }
 },
 "nbformat": 4,
 "nbformat_minor": 4
}
